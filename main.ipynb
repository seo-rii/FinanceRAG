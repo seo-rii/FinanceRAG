{
 "cells": [
  {
   "cell_type": "code",
   "execution_count": null,
   "metadata": {},
   "outputs": [],
   "source": [
    "for task in tasks:\n",
    "    task.save_results(output_dir=output_dir)\n",
    "\n",
    "header = 'query_id,corpus_id'\n",
    "\n",
    "# merge every csv file in the output directory\n",
    "with open(f'v1.csv', 'w') as f_out:\n",
    "    f_out.write(header + '\\n')\n",
    "    for file in glob.glob(f'{output_dir}/**/*.csv'):\n",
    "        with open(file, 'r') as f_in:\n",
    "            f_in.readline()\n",
    "            for line in f_in:\n",
    "                f_out.write(line)"
   ]
  }
 ],
 "metadata": {
  "kernelspec": {
   "display_name": "Python 3",
   "language": "python",
   "name": "python3"
  },
  "language_info": {
   "codemirror_mode": {
    "name": "ipython",
    "version": 3
   },
   "file_extension": ".py",
   "mimetype": "text/x-python",
   "name": "python",
   "nbconvert_exporter": "python",
   "pygments_lexer": "ipython3",
   "version": "3.12.7"
  }
 },
 "nbformat": 4,
 "nbformat_minor": 2
}
