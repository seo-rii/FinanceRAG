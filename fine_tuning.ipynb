{
 "cells": [
  {
   "cell_type": "code",
   "execution_count": null,
   "metadata": {},
   "outputs": [],
   "source": [
    "import pandas as pd\n",
    "from sentence_transformers import SentenceTransformer, InputExample, losses\n",
    "from financerag.tasks import FinDER\n",
    "from torch.utils.data import DataLoader\n",
    "\n",
    "\n",
    "finder_task = FinDER()\n",
    "\n",
    "df = pd.read_csv('./tsv/FinDER_qrels.tsv', sep='\\t')\n",
    "\n",
    "queries_map = finder_task.queries\n",
    "corpus_map = finder_task.corpus\n",
    "queries = df['query_id'].apply(lambda x: queries_map.get(x, None))\n",
    "corpus = df['corpus_id'].apply(lambda x: corpus_map.get(x, None))\n",
    "train_samples = [\n",
    "    InputExample(texts=[query, doc], label=1)\n",
    "    for query, doc in zip(queries, corpus)\n",
    "]\n",
    "model = SentenceTransformer('all-MiniLM-L6-v2')\n",
    "train_dataloader = DataLoader(train_samples, shuffle=True, batch_size=16)\n",
    "train_loss = losses.CosineSimilarityLoss(model)\n",
    "\n",
    "model.fit(\n",
    "    train_objectives=[(train_dataloader, train_loss)],\n",
    "    epochs=4,  \n",
    "    warmup_steps=100,\n",
    "    weight_decay=0.01,\n",
    ")\n",
    "model.save(\"fine_tuned_model\")\n",
    "df.to_pickle('dataframe.pkl')\n",
    "\n",
    "\n",
    "\n"
   ]
  },
  {
   "cell_type": "code",
   "execution_count": 7,
   "metadata": {},
   "outputs": [],
   "source": [
    "[\n",
    "    [query, doc]\n",
    "    for query, doc in zip(queries, corpus)\n",
    "]"
   ]
  }
 ],
 "metadata": {
  "kernelspec": {
   "display_name": "Python 3",
   "language": "python",
   "name": "python3"
  },
  "language_info": {
   "codemirror_mode": {
    "name": "ipython",
    "version": 3
   },
   "file_extension": ".py",
   "mimetype": "text/x-python",
   "name": "python",
   "nbconvert_exporter": "python",
   "pygments_lexer": "ipython3",
   "version": "3.12.7"
  }
 },
 "nbformat": 4,
 "nbformat_minor": 2
}
